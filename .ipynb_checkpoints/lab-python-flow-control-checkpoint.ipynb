{
 "cells": [
  {
   "cell_type": "markdown",
   "id": "d3bfc191-8885-42ee-b0a0-bbab867c6f9f",
   "metadata": {
    "tags": []
   },
   "source": [
    "# Lab | Flow Control"
   ]
  },
  {
   "cell_type": "markdown",
   "id": "3851fcd1-cf98-4653-9c89-e003b7ec9400",
   "metadata": {},
   "source": [
    "## Exercise: Managing Customer Orders Optimized\n",
    "\n",
    "In the last lab, you were starting an online store that sells various products. To ensure smooth operations, you developed a program that manages customer orders and inventory.\n",
    "\n",
    "You did so without using flow control. Let's go a step further and improve this code.\n",
    "\n",
    "Follow the steps below to complete the exercise:\n",
    "\n",
    "1. Look at your code from the lab data structures, and improve repeated code with loops.\n",
    "\n",
    "2. Instead of asking the user to input the name of three products that a customer wants to order, do the following:\n",
    "    \n",
    "    a. Prompt the user to enter the name of a product that a customer wants to order.\n",
    "    \n",
    "    b. Add the product name to the \"customer_orders\" set.\n",
    "    \n",
    "    c. Ask the user if they want to add another product (yes/no).\n",
    "    \n",
    "    d. Continue the loop until the user does not want to add another product.\n",
    "\n",
    "3. Instead of updating the inventory by subtracting 1 from the quantity of each product, only do it for  the products that were ordered (those in \"customer_orders\")."
   ]
  },
  {
   "cell_type": "code",
   "execution_count": 1,
   "id": "292e4126-3969-4e6b-8d64-453e1c2a2792",
   "metadata": {},
   "outputs": [],
   "source": [
    "# Available products\n",
    "products = [\"t-shirt\", \"mug\", \"hat\", \"book\", \"keychain\"]"
   ]
  },
  {
   "cell_type": "code",
   "execution_count": 3,
   "id": "513e1fb6-80b9-47bd-8c1f-eef578d614d6",
   "metadata": {},
   "outputs": [
    {
     "name": "stdin",
     "output_type": "stream",
     "text": [
      "Enter the quantity for t-shirt:  25\n",
      "Enter the quantity for mug:  15\n",
      "Enter the quantity for hat:  67\n",
      "Enter the quantity for book:  34\n",
      "Enter the quantity for keychain:  67\n"
     ]
    },
    {
     "name": "stdout",
     "output_type": "stream",
     "text": [
      "Initial inventory: {'t-shirt': 25, 'mug': 15, 'hat': 67, 'book': 34, 'keychain': 67}\n"
     ]
    }
   ],
   "source": [
    "# Inventory with input + loop\n",
    "# Inventory Dictionary\n",
    "inventory = {}\n",
    "\n",
    "for product in products: \n",
    "    quantity = int(input(f\"Enter the quantity for {product}: \"))\n",
    "    inventory[product] = quantity\n",
    "\n",
    "print(\"Initial inventory:\", inventory)"
   ]
  },
  {
   "cell_type": "code",
   "execution_count": 4,
   "id": "2a0f9c1f-a339-4879-9633-7064eda23024",
   "metadata": {},
   "outputs": [],
   "source": [
    "# Create an empty set called customer_orders\n",
    "customer_orders = set()"
   ]
  },
  {
   "cell_type": "code",
   "execution_count": 7,
   "id": "7cdb4aae-55a4-43c5-bf6c-2bcb6ec2fe35",
   "metadata": {},
   "outputs": [
    {
     "name": "stdin",
     "output_type": "stream",
     "text": [
      "Enter the name of a product to order:  mug\n"
     ]
    },
    {
     "name": "stdout",
     "output_type": "stream",
     "text": [
      "Customer orders so far: {'mug', 'book'}\n"
     ]
    },
    {
     "name": "stdin",
     "output_type": "stream",
     "text": [
      "Do you want to add another product? (yes/no):  yes\n",
      "Enter the name of a product to order:  hat\n"
     ]
    },
    {
     "name": "stdout",
     "output_type": "stream",
     "text": [
      "Customer orders so far: {'mug', 'book', 'hat'}\n"
     ]
    },
    {
     "name": "stdin",
     "output_type": "stream",
     "text": [
      "Do you want to add another product? (yes/no):  no\n"
     ]
    }
   ],
   "source": [
    "# Ask the user to enter products in a loop\n",
    "while True:\n",
    "    order = input(\"Enter the name of a product to order: \")\n",
    "\n",
    "    if order in products: \n",
    "        customer_orders.add(order)\n",
    "        print(\"Customer orders so far:\", customer_orders)\n",
    "    else:\n",
    "        print(f\"{order} is not available.\")\n",
    "    more = input(\"Do you want to add another product? (yes/no): \")\n",
    "    if more !=\"yes\":\n",
    "        break "
   ]
  },
  {
   "cell_type": "code",
   "execution_count": 8,
   "id": "1f7df01b-660c-4d57-a05e-6b1d86774a0a",
   "metadata": {},
   "outputs": [
    {
     "name": "stdout",
     "output_type": "stream",
     "text": [
      "mug\n",
      "book\n",
      "hat\n"
     ]
    }
   ],
   "source": [
    "#Print the products in the customer_orders \n",
    "for item in customer_orders:\n",
    "    print(item)\n"
   ]
  },
  {
   "cell_type": "code",
   "execution_count": 10,
   "id": "47296284-0279-4acd-8b4d-8a96f010e5b1",
   "metadata": {},
   "outputs": [],
   "source": [
    "#Update the inventory only for the products that were ordered\n",
    "for item in customer_orders:\n",
    "    if item in inventory:\n",
    "        inventory[item] -=1\n",
    "                         "
   ]
  },
  {
   "cell_type": "code",
   "execution_count": 12,
   "id": "fcf18bb7-7e8e-4292-9d9e-27587d796728",
   "metadata": {},
   "outputs": [
    {
     "name": "stdout",
     "output_type": "stream",
     "text": [
      "Updated Inventory:\n",
      "t-shirt : 25\n",
      "mug : 14\n",
      "hat : 66\n",
      "book : 33\n",
      "keychain : 67\n"
     ]
    }
   ],
   "source": [
    "#Print Updated inventory\n",
    "print (\"Updated Inventory:\")\n",
    "for product in inventory:\n",
    "    print(product, \":\", inventory[product])"
   ]
  },
  {
   "cell_type": "code",
   "execution_count": null,
   "id": "f1db09e6-9dff-4592-a780-06d64c89e306",
   "metadata": {},
   "outputs": [],
   "source": []
  }
 ],
 "metadata": {
  "kernelspec": {
   "display_name": "Python 3 (ipykernel)",
   "language": "python",
   "name": "python3"
  },
  "language_info": {
   "codemirror_mode": {
    "name": "ipython",
    "version": 3
   },
   "file_extension": ".py",
   "mimetype": "text/x-python",
   "name": "python",
   "nbconvert_exporter": "python",
   "pygments_lexer": "ipython3",
   "version": "3.13.5"
  }
 },
 "nbformat": 4,
 "nbformat_minor": 5
}
